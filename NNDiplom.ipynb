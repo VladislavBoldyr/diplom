{
 "cells": [
  {
   "cell_type": "code",
   "execution_count": null,
   "metadata": {},
   "outputs": [],
   "source": [
    "import numpy as np\n",
    "import sys"
   ]
  },
  {
   "cell_type": "code",
   "execution_count": null,
   "metadata": {},
   "outputs": [],
   "source": [
    "class  EnglishGrammarNN(object):\n",
    "    def __init__(self,learning_rate=0.1):\n",
    "        self.weights_0_1 = np.random.uniform(0.0,0.5,(6,2))\n",
    "        self.weights_1_2 = np.random.uniform(0.0,0.5,(3,5))\n",
    "        self.weights_2_3 = np.random.uniform(0.0,0.5,(12,7))\n",
    "        self.weights_3_4 = np.random.uniform(0.0,0.5,(1,13))\n",
    "        self.weights_bias = np.random.uniform(0.0,0.5,(3,1))\n",
    "        self.sigmoid_mapper = np.vectorize(self.sigmoid)\n",
    "        self.learning_rate = np.array([learning_rate])\n",
    "\n",
    "    def sigmoid(self,x):\n",
    "        return 1 / (1 + np.exp(-x))\n",
    "\n",
    "    def predict(self,inputs,inputsTimeAndBias,inputsSubjectAndBias):\n",
    "        inputs_1 = np.dot(self.weights_0_1,inputs)\n",
    "        outputs_1 = self.sigmoid_mapper(inputs_1)\n",
    "\n",
    "        inputs_2 = np.dot(self.weights_1_2,np.vstack(outputs_1,inputsTimeAndBias))\n",
    "        outputs_2 = self.sigmoid_mapper(inputs_2)\n",
    "\n",
    "        inputs_3 = np.dot(self.weights_2_3,np.vstack(outputs_2,inputsSubjectAndBias))\n",
    "        outputs_3 = self.sigmoid_mapper(inputs_3)\n",
    "\n",
    "        inputs_4 = np.dot(self.weights_3_4,outputs_3)\n",
    "        outputs_4 = self.sigmoid_mapper(inputs_4)\n",
    "\n",
    "        return outputs_4\n",
    "\n",
    "    def train(self,inputs,inputsTimeAndBias,inputsSubjectAndBias,expected_predict):\n",
    "        #actual_predict = predict(inputs,inputsTimeAndBias,inputsSubjectAndBias)\n",
    "        #actual_predict = actual_predict[0]\n",
    "        actual_predict = (predict(inputs,inputsTimeAndBias,inputsSubjectAndBias))[0]\n",
    "        error_layer_4 = np.array([(actual_predict - expected_predict])\n",
    "        gradient_layer = actual_predict*(1 - actual_predict)\n",
    "        weights_delta_layer = error_layer_4 * gradient_layer\n",
    "        self.weights_3_4 -= (np.dot(weights_delta_layer,outputs_3.reshape(1,len(outputs_3))))*self.learning_rate\n",
    "\n",
    "        error_layer_3 = self.weights_3_4 *  weights_delta_layer\n",
    "        gradient_layer_1 = outputs_2 * (1 - outputs_2)\n",
    "        weights_delta_layer_1 = error_layer_3 * gradient_layer_1\n",
    "        self.weights_2_3 -= np.dot(weights_delta_layer_1,outputs_2.reshape(1,len(outputs_2)))*self.learning_rate\n",
    "\n",
    "        error_layer_2 = self.weights_2_3 * weights_delta_layer_1\n",
    "        gradient_layer_2 = outputs_1 * (1 - outputs_1)\n",
    "        weights_delta_layer_2 = error_layer_2 * gradient_layer_2\n",
    "        self.weights_1_2 -= np.dot(weights_delta_layer_2,outputs_1.reshape(1,len(outputs_1)))*self.learning_rate\n",
    "\n",
    "        error_layer_3 = self.weights_1_2 * weights_delta_layer_2\n",
    "        gradient_layer_3 = outputs_1 * (1 - outputs_1)\n",
    "        weights_delta_layer_3 = error_layer_3 * gradient_layer_3\n",
    "        self.weights_0_1 -= np.dot(inputs.reshape(len(inputs),1),weights_delta_layer_3).T * self.learning_rate"
   ]
  },
  {
   "cell_type": "code",
   "execution_count": null,
   "metadata": {},
   "outputs": [],
   "source": [
    "def MSE(y,Y):\n",
    "    return np.mean(((y-Y)**2)*(1/12))"
   ]
  },
  {
   "cell_type": "code",
   "execution_count": null,
   "metadata": {},
   "outputs": [],
   "source": [
    "train = [\n",
    "    ([]),\n",
    "]"
   ]
  },
  {
   "cell_type": "code",
   "execution_count": null,
   "metadata": {},
   "outputs": [],
   "source": [
    "epochs = 2000\n",
    "learning_rate = 0.05\n",
    "\n",
    "network =  EnglishGrammarNN(lerning_rate = learning_rate)\n",
    "\n",
    "for e in range(epochs):\n",
    "    inputs = []\n",
    "    correct_predictions = []\n",
    "    for input_stat, correct_predict in train:\n",
    "        network.train(np.array(input_stat),correct_predict)\n",
    "        inputs.append(np.array(input_stat))\n",
    "        correct_predictions.append(np.array(correct_predict))\n",
    "        \n",
    "    train_loss = MSE(network.predict(np.array(inputs).T),np.array(correct_predictions))\n",
    "    sys.stdout.write(\"\\rProgress: {}, Training loss: {}\".format(str(100 * e/float(epochs))[:4], str(train_loss)[:5]))\n",
    "    "
   ]
  }
 ],
 "metadata": {
  "kernelspec": {
   "display_name": "Python 3",
   "language": "python",
   "name": "python3"
  },
  "language_info": {
   "codemirror_mode": {
    "name": "ipython",
    "version": 3
   },
   "file_extension": ".py",
   "mimetype": "text/x-python",
   "name": "python",
   "nbconvert_exporter": "python",
   "pygments_lexer": "ipython3",
   "version": "3.4.3"
  }
 },
 "nbformat": 4,
 "nbformat_minor": 2
}
